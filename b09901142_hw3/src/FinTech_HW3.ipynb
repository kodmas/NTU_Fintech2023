{
 "cells": [
  {
   "cell_type": "markdown",
   "id": "3fc2d00c",
   "metadata": {},
   "source": [
    "# Q1 ~ Q3 Evaluating Points on Elliptic Curve"
   ]
  },
  {
   "cell_type": "code",
   "execution_count": 129,
   "id": "d689dd10",
   "metadata": {},
   "outputs": [],
   "source": [
    "import time, random, hashlib"
   ]
  },
  {
   "cell_type": "code",
   "execution_count": 124,
   "id": "84e8c53d",
   "metadata": {},
   "outputs": [],
   "source": [
    "# Define the elliptic curve for secp256k1\n",
    "E = EllipticCurve(GF(0xFFFFFFFFFFFFFFFFFFFFFFFFFFFFFFFFFFFFFFFFFFFFFFFFFFFFFFFEFFFFFC2F), [0, 7])\n",
    "G = E.gen(0)  # Base point"
   ]
  },
  {
   "cell_type": "code",
   "execution_count": 2,
   "id": "f16aabf6",
   "metadata": {},
   "outputs": [
    {
     "data": {
      "text/plain": [
       "(32218012396881344548355657238706253422137441538982021156105971720202272027177 : 99239578269449058657394944486171813848555429735098086950370538300429951998254 : 1)"
      ]
     },
     "execution_count": 2,
     "metadata": {},
     "output_type": "execute_result"
    }
   ],
   "source": [
    "# Calculate 4G\n",
    "result_4G = 4*G\n",
    "result_4G"
   ]
  },
  {
   "cell_type": "code",
   "execution_count": 3,
   "id": "d84f4e9c",
   "metadata": {},
   "outputs": [
    {
     "data": {
      "text/plain": [
       "(479585632358859030818223506573316812292690676001561289718876011212918865721 : 57069963857376420666164540117231351811317457901457580992802940728293224713615 : 1)"
      ]
     },
     "execution_count": 3,
     "metadata": {},
     "output_type": "execute_result"
    }
   ],
   "source": [
    "# Calculate 5G\n",
    "result_5G = 5*G\n",
    "result_5G"
   ]
  },
  {
   "cell_type": "code",
   "execution_count": 58,
   "id": "c8d1063c",
   "metadata": {},
   "outputs": [
    {
     "name": "stdout",
     "output_type": "stream",
     "text": [
      "0.0006866455078125\n"
     ]
    },
    {
     "data": {
      "text/plain": [
       "(1109243043467112449304962939419683512604357085195564325682576288861010584113 : 61658990384821764855421679412393559819933351590653267702182442553986616290193 : 1)"
      ]
     },
     "execution_count": 58,
     "metadata": {},
     "output_type": "execute_result"
    }
   ],
   "source": [
    "# Calculate Q=dG\n",
    "start_1 = time.time()\n",
    "d = 1142 # my ID is b09901142\n",
    "Q = d*G\n",
    "end_1 = time.time()\n",
    "print((end_1 - start_1))\n",
    "Q"
   ]
  },
  {
   "cell_type": "code",
   "execution_count": 115,
   "id": "928567d7",
   "metadata": {},
   "outputs": [
    {
     "data": {
      "text/plain": [
       "(1109243043467112449304962939419683512604357085195564325682576288861010584113 : 61658990384821764855421679412393559819933351590653267702182442553986616290193 : 1)"
      ]
     },
     "execution_count": 115,
     "metadata": {},
     "output_type": "execute_result"
    }
   ],
   "source": [
    "Q"
   ]
  },
  {
   "cell_type": "markdown",
   "id": "3e0ffa73",
   "metadata": {},
   "source": [
    "# Q4 Standard Double and Add"
   ]
  },
  {
   "cell_type": "code",
   "execution_count": 36,
   "id": "57a3848d",
   "metadata": {},
   "outputs": [
    {
     "name": "stdout",
     "output_type": "stream",
     "text": [
      "10001110110\n"
     ]
    }
   ],
   "source": [
    "print(binary[2:])"
   ]
  },
  {
   "cell_type": "code",
   "execution_count": 130,
   "id": "3423de2c",
   "metadata": {},
   "outputs": [],
   "source": [
    "# 1 on bit 10,6,5,4,2,1"
   ]
  },
  {
   "cell_type": "code",
   "execution_count": 66,
   "id": "9c11d0eb",
   "metadata": {},
   "outputs": [
    {
     "name": "stdout",
     "output_type": "stream",
     "text": [
      "0.0013370513916015625\n"
     ]
    },
    {
     "data": {
      "text/plain": [
       "((1109243043467112449304962939419683512604357085195564325682576288861010584113 : 61658990384821764855421679412393559819933351590653267702182442553986616290193 : 1),\n",
       " 10,\n",
       " 5)"
      ]
     },
     "execution_count": 66,
     "metadata": {},
     "output_type": "execute_result"
    }
   ],
   "source": [
    "current_point = G\n",
    "double = 0\n",
    "add = 0\n",
    "start_2 = time.time()\n",
    "# Apply the decomposition\n",
    "for power in range(9,-1,-1):\n",
    "    current_point = 2*current_point\n",
    "    double += 1\n",
    "    if power in [6, 5, 4, 2, 1]:  # Add G at these powers\n",
    "        current_point = current_point + G\n",
    "        add += 1\n",
    "end_2 = time.time()\n",
    "print(end_2 - start_2)\n",
    "\n",
    "(current_point, double, add)"
   ]
  },
  {
   "cell_type": "code",
   "execution_count": 70,
   "id": "7fe263c8",
   "metadata": {},
   "outputs": [
    {
     "name": "stdout",
     "output_type": "stream",
     "text": [
      "10 5\n"
     ]
    }
   ],
   "source": [
    "binary = bin(d)\n",
    "binary = binary[2:]\n",
    "\n",
    "double = 0\n",
    "add = 0\n",
    "\n",
    "for bit in binary[1:]:\n",
    "    double += 1\n",
    "    if bit == '1':\n",
    "        add += 1\n",
    "\n",
    "print(double, add)\n",
    "        "
   ]
  },
  {
   "cell_type": "code",
   "execution_count": 133,
   "id": "7f11ef30",
   "metadata": {},
   "outputs": [
    {
     "name": "stdout",
     "output_type": "stream",
     "text": [
      "0.00022482872009277344\n"
     ]
    }
   ],
   "source": [
    "# test time from P to -P\n",
    "current_point2 = current_point\n",
    "start = time.time()\n",
    "current_point2 = -current_point2\n",
    "end = time.time()\n",
    "print((end-start))"
   ]
  },
  {
   "cell_type": "markdown",
   "id": "79abc46a",
   "metadata": {},
   "source": [
    "# Q5 Fastest Computing"
   ]
  },
  {
   "cell_type": "code",
   "execution_count": 143,
   "id": "e75dcc5c",
   "metadata": {},
   "outputs": [
    {
     "name": "stdout",
     "output_type": "stream",
     "text": [
      "0.0017828941345214844\n"
     ]
    },
    {
     "data": {
      "text/plain": [
       "((1109243043467112449304962939419683512604357085195564325682576288861010584113 : 61658990384821764855421679412393559819933351590653267702182442553986616290193 : 1),\n",
       " 10,\n",
       " 3)"
      ]
     },
     "execution_count": 143,
     "metadata": {},
     "output_type": "execute_result"
    }
   ],
   "source": [
    "# 1142 = 2^10 + 2^7 - 2^3 - 2^1\n",
    "current_point2 = G\n",
    "double = 0\n",
    "add = 0\n",
    "start_3 = time.time()\n",
    "\n",
    "# Apply the decomposition\n",
    "for power in range(9,-1,-1):\n",
    "    current_point2 = 2*current_point2\n",
    "    double += 1\n",
    "    if power in [3,1]:  # subtract G at these powers\n",
    "        current_point2 = current_point2 - G\n",
    "        add += 1\n",
    "    elif power == 7:\n",
    "        current_point2 = current_point2 + G\n",
    "        add += 1\n",
    "end_3 = time.time()\n",
    "print(end_3 - start_3)\n",
    "\n",
    "(current_point2, double, add)"
   ]
  },
  {
   "cell_type": "code",
   "execution_count": 144,
   "id": "967d8037",
   "metadata": {},
   "outputs": [
    {
     "name": "stdout",
     "output_type": "stream",
     "text": [
      "0.0016701221466064453\n"
     ]
    },
    {
     "data": {
      "text/plain": [
       "(1109243043467112449304962939419683512604357085195564325682576288861010584113 : 61658990384821764855421679412393559819933351590653267702182442553986616290193 : 1)"
      ]
     },
     "execution_count": 144,
     "metadata": {},
     "output_type": "execute_result"
    }
   ],
   "source": [
    "current_point2 = G\n",
    "double = 0\n",
    "add = 0\n",
    "\n",
    "pos = list()\n",
    "neg = list()\n",
    "start_3 = time.time()\n",
    "# Apply the decomposition\n",
    "for power in range(1,11):\n",
    "    current_point2 = 2*current_point2\n",
    "    if power in [3,1]:  # subtract G at these powers\n",
    "        neg.append(current_point2)\n",
    "    elif power in [7,10]:\n",
    "        pos.append(current_point2)\n",
    "ans = pos[0] + pos[1] - neg[0] - neg[1] \n",
    "end_3 = time.time()\n",
    "print(end_3 - start_3)\n",
    "\n",
    "ans"
   ]
  },
  {
   "cell_type": "markdown",
   "id": "f28ff4b5",
   "metadata": {},
   "source": [
    "# Q6 Bitcoin Transaction Signature"
   ]
  },
  {
   "cell_type": "code",
   "execution_count": 145,
   "id": "8ed6fd75",
   "metadata": {},
   "outputs": [
    {
     "data": {
      "text/plain": [
       "(100675308465742854889664903595928459412093116657994640753696103043453352374816,\n",
       " 10030033688558158763373387496651567819213879425141924412366526837790516787938)"
      ]
     },
     "execution_count": 145,
     "metadata": {},
     "output_type": "execute_result"
    }
   ],
   "source": [
    "# Step 0\n",
    "d_a = d\n",
    "n = E.order()\n",
    "m = \"Sample Bitcoin Transaction Signing\"\n",
    "\n",
    "# Step 1\n",
    "e = int(hashlib.sha256(m.encode()).hexdigest(), 16)\n",
    "\n",
    "# Step 2\n",
    "Ln = len(bin(n)[2:])\n",
    "z = int(str(e)[:Ln])\n",
    "random.seed(int(40))\n",
    "k = random.randint(1,n-1)\n",
    "\n",
    "# Step 3\n",
    "(x1,y1) = (k*G).xy()\n",
    "r = lift(x1) % n\n",
    "\n",
    "# Step 4\n",
    "s = ((z + r*d) * inverse_mod(k, n)) % n\n",
    "\n",
    "# print(\"My Bitcoin Transaction Signature is\")\n",
    "(r,s)"
   ]
  },
  {
   "cell_type": "markdown",
   "id": "2e9db08f",
   "metadata": {},
   "source": [
    "# Q7 Bitcoin Transaction Verification"
   ]
  },
  {
   "cell_type": "code",
   "execution_count": 138,
   "id": "6433df0c",
   "metadata": {},
   "outputs": [
    {
     "name": "stdout",
     "output_type": "stream",
     "text": [
      "Verified\n"
     ]
    }
   ],
   "source": [
    "# Step 1\n",
    "assert((1 <= r and r <= n-1) and (1 <= s and s <= n-1))\n",
    "\n",
    "e_ver = int(hashlib.sha256(m.encode()).hexdigest(), 16)\n",
    "# Step 2\n",
    "Ln = len(bin(n)[2:])\n",
    "z = int(str(e_ver)[:Ln])\n",
    "\n",
    "w = inverse_mod(s, n) % n\n",
    "u1 = (z*w) % n\n",
    "u2 = (r*w) % n\n",
    "\n",
    "\n",
    "# Step 3\n",
    "(x2,y2) = (u1*G + u2 * Q).xy()\n",
    "r2 = lift(x2) % n\n",
    "\n",
    "# Step 4\n",
    "assert(r2 == x1)\n",
    "\n",
    "print(\"Verified\")"
   ]
  },
  {
   "cell_type": "markdown",
   "id": "fd5ad2b3",
   "metadata": {},
   "source": [
    "# Q8 Quadratic Polynomial"
   ]
  },
  {
   "cell_type": "code",
   "execution_count": 123,
   "id": "1b459a24",
   "metadata": {},
   "outputs": [
    {
     "data": {
      "text/plain": [
       "556*x^2 + 8349*x + 1112"
      ]
     },
     "execution_count": 123,
     "metadata": {},
     "output_type": "execute_result"
    }
   ],
   "source": [
    "R = PolynomialRing(Zmod(10007), 'x')\n",
    "x = R.gen()\n",
    "p = R.lagrange_polynomial([(1, 10), (2, 20), (3, 1142)])\n",
    "p"
   ]
  }
 ],
 "metadata": {
  "kernelspec": {
   "display_name": "SageMath 10.2",
   "language": "sage",
   "name": "sagemath"
  },
  "language_info": {
   "codemirror_mode": {
    "name": "ipython",
    "version": 3
   },
   "file_extension": ".py",
   "mimetype": "text/x-python",
   "name": "python",
   "nbconvert_exporter": "python",
   "pygments_lexer": "ipython3",
   "version": "3.11.1"
  }
 },
 "nbformat": 4,
 "nbformat_minor": 5
}
